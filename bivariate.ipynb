{
 "cells": [
  {
   "cell_type": "code",
   "execution_count": null,
   "id": "83170a95",
   "metadata": {},
   "outputs": [],
   "source": [
    "# %%\n",
    "import numpy as np\n",
    "import pandas as pd\n",
    "import matplotlib.pyplot as plt\n",
    "import seaborn as sns\n",
    "import statsmodels.api as sm\n",
    "from IPython.display import Markdown, display"
   ]
  },
  {
   "cell_type": "code",
   "execution_count": null,
   "id": "d887e853",
   "metadata": {},
   "outputs": [],
   "source": [
    "# %%\n",
    "data = pd.read_csv(\"./archive.zip\")"
   ]
  },
  {
   "cell_type": "markdown",
   "id": "434002f7",
   "metadata": {},
   "source": [
    "# Part 1: Best selling categories\n",
    "## Crosstab analysis"
   ]
  },
  {
   "cell_type": "code",
   "execution_count": null,
   "id": "ffee3787",
   "metadata": {},
   "outputs": [],
   "source": [
    "# %%\n",
    "crosstab = pd.crosstab(data[\"category\"], data[\"isBestSeller\"].replace({True: \"yes\", False: \"no\"}), margins=True).eval(\"BestSellerRate = yes / All\").sort_values(\"BestSellerRate\", ascending=False)\n",
    "print(crosstab[\"BestSellerRate\"].head(5))"
   ]
  },
  {
   "cell_type": "markdown",
   "id": "3841101b",
   "metadata": {},
   "source": [
    "%%\n",
    "Above are top 5 categories on best seller rate, as for the question best seller rate spans from 0% to 5.8% and even top 5 spans from 3.5% to 5.8%. So yes, some categories are more expected to have best sellers.\n",
    "\n",
    "## Statistical tests\n",
    "### Chi-square test of independence"
   ]
  },
  {
   "cell_type": "code",
   "execution_count": null,
   "id": "59e0e955",
   "metadata": {},
   "outputs": [],
   "source": [
    "# %%\n",
    "import scipy.stats as stats"
   ]
  },
  {
   "cell_type": "code",
   "execution_count": null,
   "id": "c33e0628",
   "metadata": {},
   "outputs": [],
   "source": [
    "chi_sq, p, dof, ex = stats.chi2_contingency(crosstab.iloc[:, :-2])\n",
    "markdown_text = f\"\"\"\n",
    "$\\\\chi^2$ statistic is {chi_sq:.2f} indicating that there is relationship between variables (we reject null hypothesis with very high probability)\n",
    "\"\"\"\n",
    "display(Markdown(markdown_text))\n",
    "print(markdown_text)"
   ]
  },
  {
   "cell_type": "markdown",
   "id": "352c1c80",
   "metadata": {},
   "source": [
    "%% [markdown]\n",
    "### Cramér's V"
   ]
  },
  {
   "cell_type": "code",
   "execution_count": null,
   "id": "f7ef853b",
   "metadata": {},
   "outputs": [],
   "source": [
    "# %%\n",
    "cramers_v = stats.contingency.association(crosstab.iloc[:, :-2], method=\"cramer\")\n",
    "markdown_text = f\"\"\"\n",
    "Cramér's V is {cramers_v:.2f} indicating that the strength of association is very weak or even negligible\n",
    "\"\"\"\n",
    "display(Markdown(markdown_text))\n",
    "print(markdown_text)"
   ]
  },
  {
   "cell_type": "markdown",
   "id": "2eb59c90",
   "metadata": {},
   "source": [
    "%%\n",
    "## Visualization\n",
    "\n",
    "Bar stacked chart can help us visualize the variable relationship. Absolute values in the table are too different so we normalize them and select by randomly some records to visualize the fraction of BestSeller products per category."
   ]
  },
  {
   "cell_type": "code",
   "execution_count": null,
   "id": "2a8ca71c",
   "metadata": {},
   "outputs": [],
   "source": [
    "# %%\n",
    "(crosstab.div(crosstab.All.values, axis=0)).sample(25).iloc[:, :-2].plot(kind=\"bar\", stacked=True)\n",
    "plt.show()"
   ]
  },
  {
   "cell_type": "markdown",
   "id": "f30ee8de",
   "metadata": {},
   "source": [
    "%%"
   ]
  },
  {
   "cell_type": "markdown",
   "id": "17d22ddb",
   "metadata": {},
   "source": [
    "# Part 2: Prices and ratings across categories and brands"
   ]
  },
  {
   "cell_type": "code",
   "execution_count": null,
   "id": "dde5c625",
   "metadata": {},
   "outputs": [],
   "source": [
    "# %%\n",
    "# ## 0. Filter using iqr method\n",
    "iqr = data[\"price\"].quantile(0.75) - data[\"price\"].quantile(0.25)\n",
    "lower = data[\"price\"].quantile(0.25) - 1.5*iqr\n",
    "upper = data[\"price\"].quantile(0.75) + 1.5*iqr\n",
    "data = data.query(\"price >= @lower and price <= @upper\")\n",
    "prices_per_categories = pd.DataFrame([\n",
    "    data.loc[:, \"price\"],\n",
    "    data.loc[:, \"category\"],\n",
    "]).T"
   ]
  },
  {
   "cell_type": "markdown",
   "id": "0e60dcdf",
   "metadata": {},
   "source": [
    "%%"
   ]
  },
  {
   "cell_type": "markdown",
   "id": "deba957f",
   "metadata": {},
   "source": [
    "## 1. Violin plots"
   ]
  },
  {
   "cell_type": "code",
   "execution_count": null,
   "id": "6fef41e1",
   "metadata": {},
   "outputs": [],
   "source": [
    "# %%\n",
    "top20_categories = data[\"category\"].value_counts().head(20).index.to_list()\n",
    "sns.violinplot(data=prices_per_categories.query(\"category in @top20_categories\"), x=\"category\", y=\"price\")\n",
    "plt.show()"
   ]
  },
  {
   "cell_type": "code",
   "execution_count": null,
   "id": "f75a2dec",
   "metadata": {},
   "outputs": [],
   "source": [
    "# %%\n",
    "top_median_prices = prices_per_categories.groupby(\"category\").median().sort_values(\"price\", ascending=False)\n",
    "markdown_text = f\"\"\"\n",
    "The category with the highest median price is {top_median_prices.index[0]} with median price of {top_median_prices.iloc[0, 0]:.2f}\n",
    "\"\"\"\n",
    "print(markdown_text)\n",
    "display(Markdown(markdown_text))"
   ]
  },
  {
   "cell_type": "markdown",
   "id": "7e79fe3d",
   "metadata": {},
   "source": [
    "%%"
   ]
  },
  {
   "cell_type": "markdown",
   "id": "0a068823",
   "metadata": {},
   "source": [
    "## 2. Bar plots"
   ]
  },
  {
   "cell_type": "code",
   "execution_count": null,
   "id": "b65fc6ae",
   "metadata": {},
   "outputs": [],
   "source": [
    "# %%\n",
    "top10_categories = data[\"category\"].value_counts().head(10).index.to_list()\n",
    "data.query(\"category in @top10_categories\").groupby(\"category\").agg({\"price\": \"mean\"}).plot(kind=\"bar\")\n",
    "plt.show()"
   ]
  },
  {
   "cell_type": "code",
   "execution_count": null,
   "id": "88550cdf",
   "metadata": {},
   "outputs": [],
   "source": [
    "# %%\n",
    "top_average_prices = prices_per_categories.groupby(\"category\").mean().sort_values(\"price\", ascending=False)\n",
    "markdown_text = f\"\"\"\n",
    "The category with the highest median price is {top_average_prices.index[0]} with median price of {top_average_prices.iloc[0, 0]:.2f}\n",
    "\"\"\"\n",
    "print(markdown_text)\n",
    "display(Markdown(markdown_text))"
   ]
  },
  {
   "cell_type": "markdown",
   "id": "81902044",
   "metadata": {},
   "source": [
    "%%"
   ]
  },
  {
   "cell_type": "markdown",
   "id": "62953959",
   "metadata": {},
   "source": [
    "## 3. Box plots"
   ]
  },
  {
   "cell_type": "code",
   "execution_count": null,
   "id": "3f09f121",
   "metadata": {},
   "outputs": [],
   "source": [
    "# %%\n",
    "# side-by-side box plots\n",
    "data.query(\"category in @top10_categories and stars!=0\").boxplot(column=\"stars\", by=\"category\", grid=False, rot=45)\n",
    "plt.show()"
   ]
  },
  {
   "cell_type": "code",
   "execution_count": null,
   "id": "f0b797e3",
   "metadata": {},
   "outputs": [],
   "source": [
    "# %%\n",
    "top_median_ratings = data.groupby(\"category\").stars.median().sort_values(ascending=False)\n",
    "markdown_text = f\"\"\"\n",
    "The category with the highest median rating is {top_median_ratings.index[0]} with median rating of {top_median_ratings.iloc[0]:.2f}\n",
    "\"\"\"\n",
    "print(markdown_text)\n",
    "display(Markdown(markdown_text))"
   ]
  },
  {
   "cell_type": "markdown",
   "id": "b2716388",
   "metadata": {},
   "source": [
    "%% [markdown]\n",
    "# Part 3: Prices and ratings interplay\n",
    "\n",
    "## Correlation coefficients"
   ]
  },
  {
   "cell_type": "code",
   "execution_count": null,
   "id": "bec92395",
   "metadata": {},
   "outputs": [],
   "source": [
    "# %%\n",
    "price_rating_corr = data.query(\"stars!=0\")[[\"price\", \"stars\"]].corr()\n",
    "markdown_text = f\"\"\"\n",
    "Correlation coefficient between price and rating is {price_rating_corr.iloc[0, 1]:.4f} indicating that there is very weak positive correlation between them, i.e. as price increases, rating tends to increase slightly.\n",
    "\"\"\"\n",
    "print(markdown_text)\n",
    "display(Markdown(markdown_text))"
   ]
  },
  {
   "cell_type": "markdown",
   "id": "a759760c",
   "metadata": {},
   "source": [
    "%% [markdown]\n",
    "## Visualizations\n",
    "\n",
    "### Scatter plot"
   ]
  },
  {
   "cell_type": "code",
   "execution_count": null,
   "id": "5a2224a6",
   "metadata": {},
   "outputs": [],
   "source": [
    "# %%\n",
    "sns.scatterplot(data=data.query(\"stars!=0\"), x=\"stars\", y=\"price\", alpha=0.3)\n",
    "plt.show()"
   ]
  },
  {
   "cell_type": "markdown",
   "id": "f868b6b7",
   "metadata": {},
   "source": [
    "%% [markdown]\n",
    "### Correlation heatmap"
   ]
  },
  {
   "cell_type": "code",
   "execution_count": null,
   "id": "9be3297c",
   "metadata": {},
   "outputs": [],
   "source": [
    "# %%\n",
    "sns.heatmap(price_rating_corr, annot=True, cmap=\"coolwarm\", vmin=-1, vmax=1)\n",
    "plt.show()"
   ]
  },
  {
   "cell_type": "markdown",
   "id": "d99b1472",
   "metadata": {},
   "source": [
    "%% [markdown]\n",
    "### QQ plot for prices\n",
    "\n",
    "According to QQ plot, prices are not normally distributed. Visually seems like the dataset is containing several normally distributed subdatasets for different price segments."
   ]
  },
  {
   "cell_type": "code",
   "execution_count": null,
   "id": "1e7cd325",
   "metadata": {
    "lines_to_next_cell": 2
   },
   "outputs": [],
   "source": [
    "# %%\n",
    "sm.qqplot(data[\"price\"].dropna().values)\n",
    "plt.show()"
   ]
  }
 ],
 "metadata": {
  "jupytext": {
   "cell_metadata_filter": "-all"
  },
  "kernelspec": {
   "display_name": "Python 3 (ipykernel)",
   "language": "python",
   "name": "python3"
  }
 },
 "nbformat": 4,
 "nbformat_minor": 5
}
